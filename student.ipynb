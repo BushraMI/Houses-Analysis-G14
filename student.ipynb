{
 "cells": [
  {
   "cell_type": "markdown",
   "metadata": {},
   "source": [
    "## Final Project Submission\n",
    "\n",
    "Please fill out:\n",
    "* Student name: LESLEY KAMAMO\n",
    "* Student pace: PART TIME\n",
    "* Scheduled project review date/time: 11TH JULY 2023\n",
    "* Instructor name: MARYANN MWIKALI\n",
    "* Blog post URL:\n"
   ]
  },
  {
   "cell_type": "markdown",
   "metadata": {},
   "source": [
    "## Overview\n",
    "\n",
    "This project, you will require use of multiple linear regression modeling to analyze house sales in a northwestern county. Multiple linear regression is a statisitical technique used to determine the relationship among several random variables. \n",
    "\n",
    "For this project, we will use multiple linear regression, to help us understand and determine the relationship between multiple independent variables and the dependent variable, which in this case is House Sale Prices.\n",
    "\n",
    "We will be required to Import, Clean, Visualize and Model the data provided. This will enable us to answer the Objectives set and provide Recommendations to the Stakeholders associated with the real estate market."
   ]
  },
  {
   "cell_type": "markdown",
   "metadata": {},
   "source": [
    "## Business Problem\n",
    "Fanaka, is a Real Estate Investment Group is the identified stakeholders for this prject. This group deals with buying, selling, renovating and finanacing properties. They have asked us to provide insights and recommendations into the real estate market in terms of which houses and renovation features are likely to give them a significant profit on their investment. \n",
    "\n",
    "### Business Understanding\n",
    "The objectives of this project include:\n",
    "1. To model and understand the relationship between house sales prices and multiple independent variables.\n",
    "2. Valuation of the property: Identify the key factors that affect house prices in the northwestern county.\n",
    "3. Provide insights and recommendations to the stakeholders in regards to their investing\n",
    "4. Customer satisfaction: Identify the key factors affect house sales"
   ]
  },
  {
   "cell_type": "markdown",
   "metadata": {},
   "source": [
    "## Data Understanding\n",
    "\n",
    "For this project, we will use the King County House Sales dataset under the file path `data\\...` This folder contains historical data of house sales captured in a northwestern country, which we will modify for the purpose of our analysis.\n",
    "\n",
    "The data folder includes the following files:\n",
    "1. `column_names.md` - provides a description of the column names\n",
    "2. `kc_house_data.csv` - provides list of attributes for the houses and their prices"
   ]
  },
  {
   "cell_type": "code",
   "execution_count": 2,
   "metadata": {},
   "outputs": [],
   "source": [
    "# Your code here - remember to use markdown cells for comments as well!\n",
    "import numpy as np "
   ]
  },
  {
   "cell_type": "code",
   "execution_count": null,
   "metadata": {},
   "outputs": [],
   "source": []
  },
  {
   "cell_type": "code",
   "execution_count": null,
   "metadata": {},
   "outputs": [],
   "source": []
  }
 ],
 "metadata": {
  "kernelspec": {
   "display_name": "Python 3",
   "language": "python",
   "name": "python3"
  },
  "language_info": {
   "codemirror_mode": {
    "name": "ipython",
    "version": 3
   },
   "file_extension": ".py",
   "mimetype": "text/x-python",
   "name": "python",
   "nbconvert_exporter": "python",
   "pygments_lexer": "ipython3",
   "version": "3.8.5"
  }
 },
 "nbformat": 4,
 "nbformat_minor": 2
}
